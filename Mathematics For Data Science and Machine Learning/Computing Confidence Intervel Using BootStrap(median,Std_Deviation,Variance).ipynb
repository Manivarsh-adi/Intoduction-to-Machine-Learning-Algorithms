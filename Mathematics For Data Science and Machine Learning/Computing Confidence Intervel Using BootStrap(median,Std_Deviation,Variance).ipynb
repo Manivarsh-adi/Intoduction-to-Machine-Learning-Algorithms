{
 "cells": [
  {
   "cell_type": "markdown",
   "metadata": {},
   "source": [
    "# Importing Libraries"
   ]
  },
  {
   "cell_type": "code",
   "execution_count": 1,
   "metadata": {},
   "outputs": [],
   "source": [
    "import numpy as np\n",
    "from sklearn.utils import resample\n",
    "from matplotlib import pyplot"
   ]
  },
  {
   "cell_type": "markdown",
   "metadata": {},
   "source": [
    "**Load the Dataset**"
   ]
  },
  {
   "cell_type": "code",
   "execution_count": 2,
   "metadata": {},
   "outputs": [],
   "source": [
    "x=np.array([180,162,158,172,168,150,171,183,165,176])"
   ]
  },
  {
   "cell_type": "markdown",
   "metadata": {},
   "source": [
    "**Configure BootStrap**"
   ]
  },
  {
   "cell_type": "code",
   "execution_count": 3,
   "metadata": {},
   "outputs": [],
   "source": [
    "n_iteration=1000\n",
    "n_size=int(len(x))"
   ]
  },
  {
   "cell_type": "markdown",
   "metadata": {},
   "source": [
    "**Run BootStrap**"
   ]
  },
  {
   "cell_type": "code",
   "execution_count": 7,
   "metadata": {},
   "outputs": [],
   "source": [
    "medians=list()\n",
    "std_dev=list()\n",
    "variance=list()\n",
    "for i in range(n_iteration):\n",
    "    s=resample(x,n_samples=n_size)\n",
    "    m=np.median(s)\n",
    "    std=np.std(s)\n",
    "    var=std**2\n",
    "    medians.append(m)\n",
    "    std_dev.append(std)\n",
    "    variance.append(var)"
   ]
  },
  {
   "cell_type": "markdown",
   "metadata": {},
   "source": [
    "**Visualizing Data**"
   ]
  },
  {
   "cell_type": "code",
   "execution_count": 8,
   "metadata": {},
   "outputs": [
    {
     "data": {
      "image/png": "[encoded data removed]",
      "text/plain": [
       "<Figure size 432x288 with 1 Axes>"
      ]
     },
     "metadata": {
      "needs_background": "light"
     },
     "output_type": "display_data"
    }
   ],
   "source": [
    "pyplot.hist(medians)\n",
    "pyplot.hist(std_dev)\n",
    "pyplot.hist(variance)\n",
    "pyplot.show()"
   ]
  },
  {
   "cell_type": "markdown",
   "metadata": {},
   "source": [
    "# Observations From Histogram\n",
    "#**Histograms of Medians,Std_Deviation,Variance Looks to be Gaussian but NOt exactly Gaussian**\n",
    "#**We can see that there is unbalancing in intervels**"
   ]
  },
  {
   "cell_type": "code",
   "execution_count": null,
   "metadata": {},
   "outputs": [],
   "source": []
  },
  {
   "cell_type": "markdown",
   "metadata": {},
   "source": [
    "**Computing Confidence Intervels(C.I)**"
   ]
  },
  {
   "cell_type": "code",
   "execution_count": 16,
   "metadata": {},
   "outputs": [],
   "source": [
    "alpha=0.95   # Percent of intervel\n",
    "\n",
    "# Calculating Lower Bound Values of Median,Std_Deviation and Variance\n",
    "\n",
    "lower_percentile=((1.0-alpha)/2.0)*100    # Computing Lower Percentile\n",
    "\n",
    "lower_bound_sample_median=np.percentile(medians,lower_percentile)  # Value of Lower Percentile in Median List\n",
    "\n",
    "lower_bound_sample_Std_dev=np.percentile(std_dev,lower_percentile)  # Value of Lower Percentile in Std_Deviation List\n",
    "\n",
    "lower_bound_sample_variance=np.percentile(variance,lower_percentile) # Value of Lower percentile in Variance List\n",
    "\n",
    "# Calculating Upper Bound Values of Median,Std_Deviation and Variance\n",
    "\n",
    "upper_percentile=(((1.0-alpha)/2.0)+alpha)*100  # Computing Upper Percentile\n",
    "\n",
    "upper_bound_sample_median=np.percentile(medians,upper_percentile)   # Value of Upper Peecentile in Median List\n",
    "\n",
    "upper_bound_sample_std_dev=np.percentile(std_dev,upper_percentile)  # Value of Upper Percentile in Std_Deviation List\n",
    " \n",
    "upper_bound_sample_variance=np.percentile(variance,upper_percentile) # Value of Upper Percentile In Variance List\n",
    "\n",
    " "
   ]
  },
  {
   "cell_type": "code",
   "execution_count": 17,
   "metadata": {},
   "outputs": [
    {
     "name": "stdout",
     "output_type": "stream",
     "text": [
      "95 confidence interval of median sample 162 and 176\n"
     ]
    }
   ],
   "source": [
    "print('%.lf confidence interval of median sample %.lf and %.lf'%(alpha*100,lower_bound_sample_median,upper_bound_sample_median))"
   ]
  },
  {
   "cell_type": "code",
   "execution_count": 19,
   "metadata": {},
   "outputs": [
    {
     "name": "stdout",
     "output_type": "stream",
     "text": [
      "95 confidence interval of std_deviation sample 6 and 12\n"
     ]
    }
   ],
   "source": [
    "print('%.lf confidence interval of std_deviation sample %.lf and %.lf'%(alpha*100,lower_bound_sample_Std_dev,upper_bound_sample_std_dev))"
   ]
  },
  {
   "cell_type": "code",
   "execution_count": 20,
   "metadata": {},
   "outputs": [
    {
     "name": "stdout",
     "output_type": "stream",
     "text": [
      "95 confidence interval of Variance sample 31 and 154\n"
     ]
    }
   ],
   "source": [
    "print('%.lf confidence interval of Variance sample %.lf and %.lf'%(alpha*100,lower_bound_sample_variance,upper_bound_sample_variance))"
   ]
  },
  {
   "cell_type": "code",
   "execution_count": null,
   "metadata": {},
   "outputs": [],
   "source": []
  }
 ],
 "metadata": {
  "kernelspec": {
   "display_name": "Python 3",
   "language": "python",
   "name": "python3"
  },
  "language_info": {
   "codemirror_mode": {
    "name": "ipython",
    "version": 3
   },
   "file_extension": ".py",
   "mimetype": "text/x-python",
   "name": "python",
   "nbconvert_exporter": "python",
   "pygments_lexer": "ipython3",
   "version": "3.7.3"
  }
 },
 "nbformat": 4,
 "nbformat_minor": 2
}

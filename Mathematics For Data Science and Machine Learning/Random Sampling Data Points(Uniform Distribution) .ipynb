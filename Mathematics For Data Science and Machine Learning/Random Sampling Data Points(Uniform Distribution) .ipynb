{
 "cells": [
  {
   "cell_type": "code",
   "execution_count": 3,
   "metadata": {},
   "outputs": [
    {
     "data": {
      "text/plain": [
       "150"
      ]
     },
     "execution_count": 3,
     "metadata": {},
     "output_type": "execute_result"
    }
   ],
   "source": [
    "from sklearn import datasets\n",
    "import random\n",
    "import numpy as np\n",
    "iris=datasets.load_iris()\n",
    "data=iris.data\n",
    "len(data)"
   ]
  },
  {
   "cell_type": "code",
   "execution_count": 5,
   "metadata": {},
   "outputs": [
    {
     "data": {
      "text/plain": [
       "33"
      ]
     },
     "execution_count": 5,
     "metadata": {},
     "output_type": "execute_result"
    }
   ],
   "source": [
    "# Sample 30 points randomly from 150 ponits\n",
    "n=len(data)\n",
    "m=30\n",
    "p=m/n\n",
    "\n",
    "# p=30/150 \n",
    "\n",
    "sample_data=[]\n",
    "for i in range(0,n):\n",
    "    if random.random() <= p:\n",
    "        sample_data.append(data[i,:])\n",
    "len(sample_data)"
   ]
  },
  {
   "cell_type": "code",
   "execution_count": 6,
   "metadata": {},
   "outputs": [
    {
     "data": {
      "text/plain": [
       "[array([4.7, 3.2, 1.3, 0.2]),\n",
       " array([5. , 3.6, 1.4, 0.2]),\n",
       " array([4.4, 2.9, 1.4, 0.2]),\n",
       " array([5.4, 3.7, 1.5, 0.2]),\n",
       " array([4.8, 3.4, 1.6, 0.2]),\n",
       " array([5.1, 3.5, 1.4, 0.3]),\n",
       " array([5. , 3.4, 1.6, 0.4]),\n",
       " array([5.2, 3.5, 1.5, 0.2]),\n",
       " array([4.7, 3.2, 1.6, 0.2]),\n",
       " array([5.4, 3.4, 1.5, 0.4]),\n",
       " array([4.9, 3.6, 1.4, 0.1]),\n",
       " array([4.4, 3. , 1.3, 0.2]),\n",
       " array([4.5, 2.3, 1.3, 0.3]),\n",
       " array([5.1, 3.8, 1.9, 0.4]),\n",
       " array([4.8, 3. , 1.4, 0.3]),\n",
       " array([5.3, 3.7, 1.5, 0.2]),\n",
       " array([6.9, 3.1, 4.9, 1.5]),\n",
       " array([6.5, 2.8, 4.6, 1.5]),\n",
       " array([5.9, 3. , 4.2, 1.5]),\n",
       " array([6.1, 3. , 4.6, 1.4]),\n",
       " array([5. , 2.3, 3.3, 1. ]),\n",
       " array([5.8, 2.7, 5.1, 1.9]),\n",
       " array([6.5, 3. , 5.8, 2.2]),\n",
       " array([7.3, 2.9, 6.3, 1.8]),\n",
       " array([6.4, 2.7, 5.3, 1.9]),\n",
       " array([6.8, 3. , 5.5, 2.1]),\n",
       " array([5.7, 2.5, 5. , 2. ]),\n",
       " array([6. , 2.2, 5. , 1.5]),\n",
       " array([7.2, 3.2, 6. , 1.8]),\n",
       " array([7.4, 2.8, 6.1, 1.9]),\n",
       " array([6.4, 2.8, 5.6, 2.2]),\n",
       " array([6.8, 3.2, 5.9, 2.3]),\n",
       " array([6.5, 3. , 5.2, 2. ])]"
      ]
     },
     "execution_count": 6,
     "metadata": {},
     "output_type": "execute_result"
    }
   ],
   "source": [
    "sample_data"
   ]
  },
  {
   "cell_type": "code",
   "execution_count": null,
   "metadata": {},
   "outputs": [],
   "source": []
  }
 ],
 "metadata": {
  "kernelspec": {
   "display_name": "Python 3",
   "language": "python",
   "name": "python3"
  },
  "language_info": {
   "codemirror_mode": {
    "name": "ipython",
    "version": 3
   },
   "file_extension": ".py",
   "mimetype": "text/x-python",
   "name": "python",
   "nbconvert_exporter": "python",
   "pygments_lexer": "ipython3",
   "version": "3.7.3"
  }
 },
 "nbformat": 4,
 "nbformat_minor": 2
}

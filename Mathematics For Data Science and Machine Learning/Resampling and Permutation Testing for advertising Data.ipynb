{
 "cells": [
  {
   "cell_type": "markdown",
   "metadata": {},
   "source": [
    "# Importing Libraries\n",
    " \n",
    "#**Intialising Classes**"
   ]
  },
  {
   "cell_type": "code",
   "execution_count": 1,
   "metadata": {},
   "outputs": [],
   "source": [
    "import numpy as np\n",
    "import random\n",
    "import pandas as pd"
   ]
  },
  {
   "cell_type": "markdown",
   "metadata": {},
   "source": [
    "# Hypothesis assumption\n",
    "\n",
    "#**Our Assumaption NULL Hypothesis(H0) there is no difference between two classes**"
   ]
  },
  {
   "cell_type": "code",
   "execution_count": 4,
   "metadata": {},
   "outputs": [],
   "source": [
    "file=pd.read_csv('Advertising.csv')\n",
    "df=file.drop(columns=['Unnamed: 0'])\n",
    "X=df.drop(columns=['Sales'])\n",
    "Y=df.Sales"
   ]
  },
  {
   "cell_type": "code",
   "execution_count": 17,
   "metadata": {},
   "outputs": [
    {
     "data": {
      "text/plain": [
       "{'TV': 133.01999999999998,\n",
       " 'Radio': 9.241500000000006,\n",
       " 'Newspaper': 16.531499999999994}"
      ]
     },
     "execution_count": 17,
     "metadata": {},
     "output_type": "execute_result"
    }
   ],
   "source": [
    "# Calculating Delta (differnce between class1 and class2 mean)\n",
    "delta={}\n",
    "for i in X.columns:\n",
    "    x=X[i].values\n",
    "    y=Y.values\n",
    "    Delta=x.mean()-y.mean()\n",
    "    delta[i]=Delta\n",
    "delta"
   ]
  },
  {
   "cell_type": "code",
   "execution_count": 13,
   "metadata": {},
   "outputs": [],
   "source": [
    "# Merging Two classes\n",
    "\n",
    "Merging_classes={}\n",
    "for i in X.columns:\n",
    "    x=X[i].values\n",
    "    y=Y.values\n",
    "    concat=np.concatenate((x,y))\n",
    "    Merging_classes[i]=concat"
   ]
  },
  {
   "cell_type": "markdown",
   "metadata": {},
   "source": [
    "# Random Sampling\n",
    "\n",
    "#**Dividing Merged class into two vectors**\n",
    "#**Before Dividing or spliting merged class to two vectors we must split them by shuffling**\n",
    "#**As per Permutation testing we split jumbled or merged sample into two vectors by assigning each array(vector) number randomly from merged(jumbled) class**"
   ]
  },
  {
   "cell_type": "code",
   "execution_count": 16,
   "metadata": {},
   "outputs": [],
   "source": [
    "Delta_Arrays={}\n",
    "for i in Merging_classes.keys():\n",
    "    Merged_class=Merging_classes[i]\n",
    "    Deltas_Array=np.empty((100,1))\n",
    "    for j in range(Deltas_Array.shape[0]):\n",
    "        random.shuffle(Merged_class)\n",
    "        l=np.split(Merged_class,2)\n",
    "        mean_of_array1=l[0].mean()\n",
    "        mean_of_array2=l[1].mean()\n",
    "        delta=mean_of_array1-mean_of_array2\n",
    "        Deltas_Array[j]=delta\n",
    "    Delta_Arrays[i]=Deltas_Array"
   ]
  },
  {
   "cell_type": "markdown",
   "metadata": {},
   "source": [
    "**fitting(appending) our class Delta into Deltas Array**"
   ]
  },
  {
   "cell_type": "code",
   "execution_count": 18,
   "metadata": {},
   "outputs": [],
   "source": [
    "new_array={}\n",
    "for i in X.columns:\n",
    "    new=np.append(Delta_Arrays[i],delta[i])\n",
    "    new_array[i]=new"
   ]
  },
  {
   "cell_type": "markdown",
   "metadata": {},
   "source": [
    "**Sorting the Deltas Array**"
   ]
  },
  {
   "cell_type": "code",
   "execution_count": 19,
   "metadata": {},
   "outputs": [],
   "source": [
    "Sorted_Array={}\n",
    "for i in X.columns:\n",
    "    sort=np.sort(new_array[i],axis=None)\n",
    "    Sorted_Array[i]=sort"
   ]
  },
  {
   "cell_type": "markdown",
   "metadata": {},
   "source": [
    "**Calculating Percentile Value of our Class Delta**"
   ]
  },
  {
   "cell_type": "code",
   "execution_count": 20,
   "metadata": {},
   "outputs": [],
   "source": [
    "def calculating_percentile_value(x,y):\n",
    "    for i in range(1,101):\n",
    "        percentile_value=np.percentile(x,i)\n",
    "        if percentile_value >= y:\n",
    "            k=i\n",
    "            return k\n",
    "#percentile_value=calculating_percentile_value(Sorted_Array,class_Delta)"
   ]
  },
  {
   "cell_type": "markdown",
   "metadata": {},
   "source": [
    "# Conclusion"
   ]
  },
  {
   "cell_type": "code",
   "execution_count": 21,
   "metadata": {},
   "outputs": [
    {
     "name": "stdout",
     "output_type": "stream",
     "text": [
      "for TV reject the Null Hypothesis and Accept the Alternative Hypothesis\n",
      "for Radio reject the Null Hypothesis and Accept the Alternative Hypothesis\n",
      "for Newspaper reject the Null Hypothesis and Accept the Alternative Hypothesis\n"
     ]
    }
   ],
   "source": [
    "for i in X.columns:\n",
    "    percentile_value=calculating_percentile_value(Sorted_Array[i],delta[i])\n",
    "    P_Value=100-percentile_value\n",
    "    if P_Value <= 5:\n",
    "        print('for',i,'reject the Null Hypothesis and Accept the Alternative Hypothesis')\n",
    "    else:\n",
    "        print('for',i,'Accept Null Hypothesis')"
   ]
  },
  {
   "cell_type": "code",
   "execution_count": null,
   "metadata": {},
   "outputs": [],
   "source": []
  },
  {
   "cell_type": "code",
   "execution_count": null,
   "metadata": {},
   "outputs": [],
   "source": []
  }
 ],
 "metadata": {
  "kernelspec": {
   "display_name": "Python 3",
   "language": "python",
   "name": "python3"
  },
  "language_info": {
   "codemirror_mode": {
    "name": "ipython",
    "version": 3
   },
   "file_extension": ".py",
   "mimetype": "text/x-python",
   "name": "python",
   "nbconvert_exporter": "python",
   "pygments_lexer": "ipython3",
   "version": "3.8.3"
  }
 },
 "nbformat": 4,
 "nbformat_minor": 2
}

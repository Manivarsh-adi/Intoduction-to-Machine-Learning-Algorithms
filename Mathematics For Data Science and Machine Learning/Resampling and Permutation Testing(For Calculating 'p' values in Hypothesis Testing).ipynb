{
 "cells": [
  {
   "cell_type": "markdown",
   "metadata": {},
   "source": [
    "# Importing Libraries\n",
    " \n",
    "#**Intialising Classes**"
   ]
  },
  {
   "cell_type": "code",
   "execution_count": 170,
   "metadata": {},
   "outputs": [],
   "source": [
    "import numpy as np\n",
    "import random\n",
    "class_1=np.random.uniform(low=120,high=180,size=(50,1))\n",
    "class_2=np.random.uniform(low=120,high=180,size=(50,1))"
   ]
  },
  {
   "cell_type": "markdown",
   "metadata": {},
   "source": [
    "# Hypothesis assumption\n",
    "\n",
    "#**Our Assumaption NULL Hypothesis(H0) there is no difference between two classes**"
   ]
  },
  {
   "cell_type": "code",
   "execution_count": 171,
   "metadata": {},
   "outputs": [
    {
     "data": {
      "text/plain": [
       "4.572694885173462"
      ]
     },
     "execution_count": 171,
     "metadata": {},
     "output_type": "execute_result"
    }
   ],
   "source": [
    "# Calculating Delta (differnce between class1 and class2 mean)\n",
    "\n",
    "class_Delta=class_1.mean()-class_2.mean() \n",
    "class_Delta"
   ]
  },
  {
   "cell_type": "code",
   "execution_count": 172,
   "metadata": {},
   "outputs": [],
   "source": [
    "# Merging Two classes\n",
    "\n",
    "Merging_classes=np.concatenate((class_1,class_2))"
   ]
  },
  {
   "cell_type": "markdown",
   "metadata": {},
   "source": [
    "# Random Sampling\n",
    "\n",
    "#**Dividing Merged class into two vectors**\n",
    "#**Before Dividing or spliting merged class to two vectors we must split them by shuffling**\n",
    "#**As per Permutation testing we split jumbled or merged sample into two vectors by assigning each array(vector) number randomly from merged(jumbled) class**"
   ]
  },
  {
   "cell_type": "code",
   "execution_count": 173,
   "metadata": {},
   "outputs": [],
   "source": [
    "Deltas_Array=np.empty((100,1))\n",
    "for i in range(Deltas_Array.shape[0]):\n",
    "    random.shuffle(Merging_classes)\n",
    "    l=np.split(Merging_classes,2)\n",
    "    mean_of_array1=l[0].mean()\n",
    "    mean_of_array2=l[1].mean()\n",
    "    delta=mean_of_array1-mean_of_array2\n",
    "    Deltas_Array[i]=delta"
   ]
  },
  {
   "cell_type": "markdown",
   "metadata": {},
   "source": [
    "**fitting(appending) our class Delta into Deltas Array**"
   ]
  },
  {
   "cell_type": "code",
   "execution_count": 174,
   "metadata": {},
   "outputs": [],
   "source": [
    "new_array=np.append(Deltas_Array,class_Delta)"
   ]
  },
  {
   "cell_type": "markdown",
   "metadata": {},
   "source": [
    "**Sorting the Deltas Array**"
   ]
  },
  {
   "cell_type": "code",
   "execution_count": 175,
   "metadata": {},
   "outputs": [],
   "source": [
    "Sorted_Array=np.sort(new_array,axis=None)"
   ]
  },
  {
   "cell_type": "markdown",
   "metadata": {},
   "source": [
    "**Calculating Percentile Value of our Class Delta**"
   ]
  },
  {
   "cell_type": "code",
   "execution_count": 176,
   "metadata": {},
   "outputs": [],
   "source": [
    "def calculating_percentile_value(x,y):\n",
    "    for i in range(1,101):\n",
    "        percentile_value=np.percentile(x,i)\n",
    "        if percentile_value >= y:\n",
    "            k=i\n",
    "            return k\n",
    "percentile_value=calculating_percentile_value(Sorted_Array,class_Delta)"
   ]
  },
  {
   "cell_type": "markdown",
   "metadata": {},
   "source": [
    "# Conclusion"
   ]
  },
  {
   "cell_type": "code",
   "execution_count": 177,
   "metadata": {},
   "outputs": [
    {
     "name": "stdout",
     "output_type": "stream",
     "text": [
      "reject the Null Hypothesis and Accept the Alternative Hypothesis\n"
     ]
    }
   ],
   "source": [
    "P_Value=100-percentile_value\n",
    "if P_Value <= 5:\n",
    "    print('reject the Null Hypothesis and Accept the Alternative Hypothesis')\n",
    "else:\n",
    "    print('Accept Null Hypothesis')"
   ]
  },
  {
   "cell_type": "code",
   "execution_count": null,
   "metadata": {},
   "outputs": [],
   "source": []
  },
  {
   "cell_type": "code",
   "execution_count": null,
   "metadata": {},
   "outputs": [],
   "source": []
  }
 ],
 "metadata": {
  "kernelspec": {
   "display_name": "Python 3",
   "language": "python",
   "name": "python3"
  },
  "language_info": {
   "codemirror_mode": {
    "name": "ipython",
    "version": 3
   },
   "file_extension": ".py",
   "mimetype": "text/x-python",
   "name": "python",
   "nbconvert_exporter": "python",
   "pygments_lexer": "ipython3",
   "version": "3.8.3"
  }
 },
 "nbformat": 4,
 "nbformat_minor": 2
}

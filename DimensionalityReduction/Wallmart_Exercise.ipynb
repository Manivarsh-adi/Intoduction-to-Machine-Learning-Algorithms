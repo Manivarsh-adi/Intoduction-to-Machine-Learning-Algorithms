{
 "cells": [
  {
   "cell_type": "code",
   "execution_count": 45,
   "metadata": {},
   "outputs": [],
   "source": [
    "import numpy as np\n",
    "import pandas as pd\n",
    "import matplotlib.pyplot as plt\n",
    "import seaborn as sn\n",
    "\n",
    "from sklearn.preprocessing import StandardScaler\n",
    "from scipy.linalg import eigh"
   ]
  },
  {
   "cell_type": "markdown",
   "metadata": {},
   "source": [
    "**Performimg PCA using eigen values and vectors.**"
   ]
  },
  {
   "cell_type": "code",
   "execution_count": 39,
   "metadata": {},
   "outputs": [
    {
     "data": {
      "text/html": [
       "<div>\n",
       "<style scoped>\n",
       "    .dataframe tbody tr th:only-of-type {\n",
       "        vertical-align: middle;\n",
       "    }\n",
       "\n",
       "    .dataframe tbody tr th {\n",
       "        vertical-align: top;\n",
       "    }\n",
       "\n",
       "    .dataframe thead th {\n",
       "        text-align: right;\n",
       "    }\n",
       "</style>\n",
       "<table border=\"1\" class=\"dataframe\">\n",
       "  <thead>\n",
       "    <tr style=\"text-align: right;\">\n",
       "      <th></th>\n",
       "      <th>Respondent</th>\n",
       "      <th>Product_Quality</th>\n",
       "      <th>E_Commerce</th>\n",
       "      <th>Technical_Support</th>\n",
       "      <th>Complaint_Resolution</th>\n",
       "      <th>Advertising</th>\n",
       "      <th>Product_Line</th>\n",
       "      <th>Salesforce_Image</th>\n",
       "      <th>Competitive_Pricing</th>\n",
       "      <th>Warranty&amp;Claims</th>\n",
       "      <th>Packaging</th>\n",
       "      <th>Order&amp;Billing</th>\n",
       "      <th>Price_Flexibility</th>\n",
       "      <th>Delivery_Speed</th>\n",
       "    </tr>\n",
       "  </thead>\n",
       "  <tbody>\n",
       "    <tr>\n",
       "      <th>0</th>\n",
       "      <td>1</td>\n",
       "      <td>8.5</td>\n",
       "      <td>3.9</td>\n",
       "      <td>2.5</td>\n",
       "      <td>5.9</td>\n",
       "      <td>4.8</td>\n",
       "      <td>4.9</td>\n",
       "      <td>6.0</td>\n",
       "      <td>6.8</td>\n",
       "      <td>4.7</td>\n",
       "      <td>4.3</td>\n",
       "      <td>5.0</td>\n",
       "      <td>5.1</td>\n",
       "      <td>3.7</td>\n",
       "    </tr>\n",
       "    <tr>\n",
       "      <th>1</th>\n",
       "      <td>2</td>\n",
       "      <td>8.2</td>\n",
       "      <td>2.7</td>\n",
       "      <td>5.1</td>\n",
       "      <td>7.2</td>\n",
       "      <td>3.4</td>\n",
       "      <td>7.9</td>\n",
       "      <td>3.1</td>\n",
       "      <td>5.3</td>\n",
       "      <td>5.5</td>\n",
       "      <td>4.0</td>\n",
       "      <td>3.9</td>\n",
       "      <td>4.3</td>\n",
       "      <td>4.9</td>\n",
       "    </tr>\n",
       "    <tr>\n",
       "      <th>2</th>\n",
       "      <td>3</td>\n",
       "      <td>9.2</td>\n",
       "      <td>3.4</td>\n",
       "      <td>5.6</td>\n",
       "      <td>5.6</td>\n",
       "      <td>5.4</td>\n",
       "      <td>7.4</td>\n",
       "      <td>5.8</td>\n",
       "      <td>4.5</td>\n",
       "      <td>6.2</td>\n",
       "      <td>4.6</td>\n",
       "      <td>5.4</td>\n",
       "      <td>4.0</td>\n",
       "      <td>4.5</td>\n",
       "    </tr>\n",
       "    <tr>\n",
       "      <th>3</th>\n",
       "      <td>4</td>\n",
       "      <td>6.4</td>\n",
       "      <td>3.3</td>\n",
       "      <td>7.0</td>\n",
       "      <td>3.7</td>\n",
       "      <td>4.7</td>\n",
       "      <td>4.7</td>\n",
       "      <td>4.5</td>\n",
       "      <td>8.8</td>\n",
       "      <td>7.0</td>\n",
       "      <td>3.6</td>\n",
       "      <td>4.3</td>\n",
       "      <td>4.1</td>\n",
       "      <td>3.0</td>\n",
       "    </tr>\n",
       "    <tr>\n",
       "      <th>4</th>\n",
       "      <td>5</td>\n",
       "      <td>9.0</td>\n",
       "      <td>3.4</td>\n",
       "      <td>5.2</td>\n",
       "      <td>4.6</td>\n",
       "      <td>2.2</td>\n",
       "      <td>6.0</td>\n",
       "      <td>4.5</td>\n",
       "      <td>6.8</td>\n",
       "      <td>6.1</td>\n",
       "      <td>4.5</td>\n",
       "      <td>4.5</td>\n",
       "      <td>3.5</td>\n",
       "      <td>3.5</td>\n",
       "    </tr>\n",
       "  </tbody>\n",
       "</table>\n",
       "</div>"
      ],
      "text/plain": [
       "   Respondent  Product_Quality  E_Commerce  Technical_Support  \\\n",
       "0           1              8.5         3.9                2.5   \n",
       "1           2              8.2         2.7                5.1   \n",
       "2           3              9.2         3.4                5.6   \n",
       "3           4              6.4         3.3                7.0   \n",
       "4           5              9.0         3.4                5.2   \n",
       "\n",
       "   Complaint_Resolution  Advertising  Product_Line  Salesforce_Image  \\\n",
       "0                   5.9          4.8           4.9               6.0   \n",
       "1                   7.2          3.4           7.9               3.1   \n",
       "2                   5.6          5.4           7.4               5.8   \n",
       "3                   3.7          4.7           4.7               4.5   \n",
       "4                   4.6          2.2           6.0               4.5   \n",
       "\n",
       "   Competitive_Pricing  Warranty&Claims  Packaging  Order&Billing  \\\n",
       "0                  6.8              4.7        4.3            5.0   \n",
       "1                  5.3              5.5        4.0            3.9   \n",
       "2                  4.5              6.2        4.6            5.4   \n",
       "3                  8.8              7.0        3.6            4.3   \n",
       "4                  6.8              6.1        4.5            4.5   \n",
       "\n",
       "   Price_Flexibility  Delivery_Speed  \n",
       "0                5.1             3.7  \n",
       "1                4.3             4.9  \n",
       "2                4.0             4.5  \n",
       "3                4.1             3.0  \n",
       "4                3.5             3.5  "
      ]
     },
     "execution_count": 39,
     "metadata": {},
     "output_type": "execute_result"
    }
   ],
   "source": [
    "df = pd.read_csv(\"Wallmart.csv\")\n",
    "\n",
    "df.head()"
   ]
  },
  {
   "cell_type": "code",
   "execution_count": 40,
   "metadata": {},
   "outputs": [],
   "source": [
    "# Standardizing data\n",
    "\n",
    "standardized_df = StandardScaler().fit_transform(df)"
   ]
  },
  {
   "cell_type": "code",
   "execution_count": 41,
   "metadata": {},
   "outputs": [
    {
     "data": {
      "text/plain": [
       "(200, 14)"
      ]
     },
     "execution_count": 41,
     "metadata": {},
     "output_type": "execute_result"
    }
   ],
   "source": [
    "standardized_df.shape"
   ]
  },
  {
   "cell_type": "code",
   "execution_count": 52,
   "metadata": {},
   "outputs": [
    {
     "data": {
      "text/plain": [
       "(14, 14)"
      ]
     },
     "execution_count": 52,
     "metadata": {},
     "output_type": "execute_result"
    }
   ],
   "source": [
    "# finding co variance matrix for standardized data\n",
    "\n",
    "cov_matrix = np.matmul(standardized_df.T, standardized_df)\n",
    "\n",
    "cov_matrix.shape"
   ]
  },
  {
   "cell_type": "code",
   "execution_count": 98,
   "metadata": {},
   "outputs": [
    {
     "data": {
      "text/plain": [
       "array([4.94815092e-05, 8.63847419e-04, 3.31567695e-03, 8.47587596e-03,\n",
       "       1.79421235e-02, 3.40931288e-02, 5.96837778e-02, 9.79538226e-02,\n",
       "       1.53949985e-01, 2.33159394e-01, 3.44738139e-01, 4.98576215e-01,\n",
       "       7.09774623e-01, 1.00000000e+00])"
      ]
     },
     "execution_count": 98,
     "metadata": {},
     "output_type": "execute_result"
    }
   ],
   "source": [
    "# finding eigen values and vectors for co variance matrix\n",
    "\n",
    "eign_values, eigen_vectros = eigh(cov_matrix, eigvals = (0, 13))\n",
    "\n",
    "eigen_values_explained_variance = np.cumsum(eigen_values) / np.sum(eigen_values)\n",
    "\n",
    "eigen_values_explained_variance"
   ]
  },
  {
   "cell_type": "code",
   "execution_count": 86,
   "metadata": {},
   "outputs": [
    {
     "data": {
      "text/plain": [
       "array([0.27416763, 0.4652543 , 0.59040139, 0.70626172, 0.77569533,\n",
       "       0.83955609, 0.88055162, 0.91541169, 0.94551166, 0.96572854,\n",
       "       0.97927969, 0.99032122, 0.99937387, 1.        ])"
      ]
     },
     "execution_count": 86,
     "metadata": {},
     "output_type": "execute_result"
    }
   ],
   "source": [
    "from sklearn import decomposition\n",
    "\n",
    "pca = decomposition.PCA()\n",
    "\n",
    "pca.n_components = 14\n",
    "\n",
    "pca_data = pca.fit_transform(standardized_df)\n",
    "\n",
    "percentage_explained_variance = pca.explained_variance_ / np.sum(pca.explained_variance_)\n",
    "\n",
    "cum_var_explained = np.cumsum(percentage_explained_variance)\n",
    "\n",
    "cum_var_explained"
   ]
  },
  {
   "cell_type": "code",
   "execution_count": 79,
   "metadata": {},
   "outputs": [
    {
     "data": {
      "image/png": "[encoded data removed]",
      "text/plain": [
       "<Figure size 432x288 with 1 Axes>"
      ]
     },
     "metadata": {
      "needs_background": "light"
     },
     "output_type": "display_data"
    }
   ],
   "source": [
    "plt.figure(figsize = (6, 4))\n",
    "plt.clf()\n",
    "plt.plot(cum_var_explained, linewidth = 2)\n",
    "plt.axis('tight')\n",
    "plt.grid()\n",
    "plt.xlabel(\"n_components\")\n",
    "plt.ylabel(\"cum_variable_explained\")\n",
    "plt.show()"
   ]
  },
  {
   "cell_type": "code",
   "execution_count": null,
   "metadata": {},
   "outputs": [],
   "source": []
  },
  {
   "cell_type": "code",
   "execution_count": null,
   "metadata": {},
   "outputs": [],
   "source": []
  }
 ],
 "metadata": {
  "kernelspec": {
   "display_name": "Python 3",
   "language": "python",
   "name": "python3"
  },
  "language_info": {
   "codemirror_mode": {
    "name": "ipython",
    "version": 3
   },
   "file_extension": ".py",
   "mimetype": "text/x-python",
   "name": "python",
   "nbconvert_exporter": "python",
   "pygments_lexer": "ipython3",
   "version": "3.8.3"
  }
 },
 "nbformat": 4,
 "nbformat_minor": 2
}
